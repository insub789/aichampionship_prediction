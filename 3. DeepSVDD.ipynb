{
 "cells": [
  {
   "cell_type": "code",
   "execution_count": 3,
   "metadata": {
    "ExecuteTime": {
     "end_time": "2020-10-26T11:46:58.599204Z",
     "start_time": "2020-10-26T11:43:54.572149Z"
    }
   },
   "outputs": [
    {
     "name": "stdout",
     "output_type": "stream",
     "text": [
      "INFO:root:Log file is Deep SVDD/results//log.txt.\n",
      "INFO:root:Data path is Final_data/.\n",
      "INFO:root:Export path is Deep SVDD/results/.\n",
      "INFO:root:Dataset: baemin\n",
      "INFO:root:Normal class: 0\n",
      "INFO:root:Network: baeminNet\n",
      "INFO:root:Deep SVDD objective: soft-boundary\n",
      "INFO:root:Nu-paramerter: 0.10\n",
      "INFO:root:Computation device: cuda\n",
      "INFO:root:Number of dataloader workers: 0\n",
      "INFO:root:Pretraining: False\n",
      "INFO:root:Training optimizer: adam\n",
      "INFO:root:Training learning rate: 0.001\n",
      "INFO:root:Training epochs: 2\n",
      "INFO:root:Training learning rate scheduler milestones: ()\n",
      "INFO:root:Training batch size: 128\n",
      "INFO:root:Training weight decay: 1e-06\n",
      "INFO:root:Initializing center c...\n",
      "tensor([ 0.1000, -0.1000, -0.1000, -0.1000, -0.1000, -0.1000,  0.1000,  0.1065,\n",
      "         0.1000, -0.1000, -0.1000, -0.1000, -0.1000,  0.1000,  0.1000,  0.1000,\n",
      "         0.1000, -0.1000,  0.1000,  0.1000,  0.1086,  0.1000,  0.1000,  0.1000,\n",
      "        -0.1000,  0.1000, -0.1000,  0.1000,  0.1000, -0.1000,  0.1000, -0.1000,\n",
      "         0.1019, -0.1000, -0.1000,  0.1000,  0.1000,  0.1000, -0.1000,  0.1000,\n",
      "         0.1000, -0.1000, -0.1000,  0.1000,  0.1297,  0.1000,  0.1000, -0.1000,\n",
      "        -0.1000, -0.1000,  0.1000, -0.1000,  0.1000, -0.1000, -0.1000, -0.1000,\n",
      "        -0.1000, -0.1000, -0.1000, -0.1000, -0.1000,  0.1000,  0.1000,  0.1000,\n",
      "         0.1000,  0.1000, -0.1000,  0.1387,  0.1229, -0.1000,  0.1000, -0.1000,\n",
      "         0.1000, -0.1000, -0.1000, -0.1000,  0.1000, -0.1000,  0.1000, -0.1000,\n",
      "         0.1000,  0.1000,  0.1000, -0.1000, -0.1000, -0.1000, -0.1000, -0.1000,\n",
      "        -0.1000,  0.1000, -0.1000, -0.1000,  0.1000, -0.1000, -0.1000, -0.1000,\n",
      "        -0.1000,  0.1000,  0.1000, -0.1000, -0.1000,  0.1000,  0.1000,  0.1000,\n",
      "        -0.1000,  0.1000,  0.1000,  0.1000, -0.1000, -0.1000, -0.1000,  0.1109,\n",
      "        -0.1000,  0.1000,  0.1000, -0.1000, -0.1000, -0.1000,  0.1000, -0.1000,\n",
      "        -0.1000,  0.1000,  0.1000, -0.1000,  0.1000,  0.1000,  0.1000, -0.1000],\n",
      "       device='cuda:0')\n",
      "INFO:root:Center c initialized.\n",
      "INFO:root:Starting training...\n",
      "radius :tensor(0., device='cuda:0')\n",
      "/opt/conda/lib/python3.7/site-packages/torch/optim/lr_scheduler.py:122: UserWarning: Detected call of `lr_scheduler.step()` before `optimizer.step()`. In PyTorch 1.1.0 and later, you should call them in the opposite order: `optimizer.step()` before `lr_scheduler.step()`.  Failure to do this will result in PyTorch skipping the first value of the learning rate schedule. See more details at https://pytorch.org/docs/stable/optim.html#how-to-adjust-learning-rate\n",
      "  \"https://pytorch.org/docs/stable/optim.html#how-to-adjust-learning-rate\", UserWarning)\n",
      "INFO:root:  Epoch 1/2\t Time: 59.199\t Loss: 44.65802631\n",
      "radius :tensor(0.5134, device='cuda:0')\n",
      "INFO:root:  Epoch 2/2\t Time: 59.721\t Loss: 0.02468000\n",
      "INFO:root:Training time: 118.923\n",
      "INFO:root:Finished training.\n",
      "INFO:root:Starting testing...\n",
      "INFO:root:Testing time: 9.562\n",
      "                                shop_no      ord_dt  abuse_yn\n",
      "0      000570550A4CE3A992912889C3CBE908  2020-09-11  0.006773\n",
      "1      000570550A4CE3A992912889C3CBE908  2020-09-13  0.007250\n",
      "2      000570550A4CE3A992912889C3CBE908  2020-09-14  0.004660\n",
      "3      000570550A4CE3A992912889C3CBE908  2020-09-15  0.006251\n",
      "4      0005E2300ABF96225F902728DC72A20A  2020-09-11  0.007486\n",
      "...                                 ...         ...       ...\n",
      "56202  FFF7F52ECE325F5486DA9F7918DCDDE6  2020-09-13  0.009246\n",
      "56203  FFF7F52ECE325F5486DA9F7918DCDDE6  2020-09-14  0.004496\n",
      "56204  FFF7F52ECE325F5486DA9F7918DCDDE6  2020-09-15  0.009091\n",
      "56205  FFFE4283248C8805E1996AC71866E490  2020-09-12  0.004364\n",
      "56206  FFFE4283248C8805E1996AC71866E490  2020-09-15  0.005972\n",
      "\n",
      "[56207 rows x 3 columns]\n",
      "INFO:root:Test set AUC: 74.84%\n",
      "INFO:root:Finished testing.\n"
     ]
    }
   ],
   "source": [
    "!python3 'Deep SVDD/main.py' --save_points_outside_r=False --n_epochs=2 --learn'baemin' 'baeminNet' 'Deep SVDD/results/' 'Final_data/'"
   ]
  },
  {
   "cell_type": "code",
   "execution_count": null,
   "metadata": {},
   "outputs": [],
   "source": []
  }
 ],
 "metadata": {
  "kernelspec": {
   "display_name": "Python 3",
   "language": "python",
   "name": "python3"
  },
  "language_info": {
   "codemirror_mode": {
    "name": "ipython",
    "version": 3
   },
   "file_extension": ".py",
   "mimetype": "text/x-python",
   "name": "python",
   "nbconvert_exporter": "python",
   "pygments_lexer": "ipython3",
   "version": "3.7.6"
  },
  "toc": {
   "base_numbering": 1,
   "nav_menu": {},
   "number_sections": false,
   "sideBar": true,
   "skip_h1_title": false,
   "title_cell": "Table of Contents",
   "title_sidebar": "Contents",
   "toc_cell": false,
   "toc_position": {},
   "toc_section_display": true,
   "toc_window_display": false
  }
 },
 "nbformat": 4,
 "nbformat_minor": 2
}
