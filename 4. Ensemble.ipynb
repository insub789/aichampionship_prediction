{
 "cells": [
  {
   "cell_type": "code",
   "execution_count": 2,
   "metadata": {
    "ExecuteTime": {
     "end_time": "2020-10-27T04:56:44.895674Z",
     "start_time": "2020-10-27T04:56:44.727639Z"
    }
   },
   "outputs": [],
   "source": [
    "import pandas as pd"
   ]
  },
  {
   "cell_type": "code",
   "execution_count": 14,
   "metadata": {
    "ExecuteTime": {
     "end_time": "2020-10-27T05:05:08.227539Z",
     "start_time": "2020-10-27T05:05:07.945795Z"
    }
   },
   "outputs": [],
   "source": [
    "# 2개 평균\n",
    "deepsvdd = pd.read_csv('Predict_data/deepsvdd.csv')\n",
    "lightgbm = pd.read_csv('Predict_data/pred_lgbm.csv')\n",
    "res = (deepsvdd['abuse_yn'] + lightgbm['abuse_yn'])/2\n",
    "ans = lightgbm.copy()\n",
    "ans['abuse_yn'] = res\n",
    "ans.to_csv('Predict_data/ensemble.csv')"
   ]
  }
 ],
 "metadata": {
  "kernelspec": {
   "display_name": "Python 3",
   "language": "python",
   "name": "python3"
  },
  "language_info": {
   "codemirror_mode": {
    "name": "ipython",
    "version": 3
   },
   "file_extension": ".py",
   "mimetype": "text/x-python",
   "name": "python",
   "nbconvert_exporter": "python",
   "pygments_lexer": "ipython3",
   "version": "3.7.6"
  },
  "toc": {
   "base_numbering": 1,
   "nav_menu": {},
   "number_sections": false,
   "sideBar": true,
   "skip_h1_title": false,
   "title_cell": "Table of Contents",
   "title_sidebar": "Contents",
   "toc_cell": false,
   "toc_position": {},
   "toc_section_display": true,
   "toc_window_display": false
  }
 },
 "nbformat": 4,
 "nbformat_minor": 2
}
