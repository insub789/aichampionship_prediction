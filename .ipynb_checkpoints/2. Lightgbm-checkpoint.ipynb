{
 "cells": [
  {
   "cell_type": "code",
   "execution_count": 1,
   "metadata": {
    "ExecuteTime": {
     "end_time": "2020-10-26T05:48:22.833182Z",
     "start_time": "2020-10-26T05:48:22.372550Z"
    }
   },
   "outputs": [],
   "source": [
    "import pandas as pd\n",
    "import os\n",
    "import numpy as np\n",
    "import warnings\n",
    "import seaborn as sns\n",
    "import re\n",
    "from tqdm import tqdm\n",
    "warnings.filterwarnings('ignore')"
   ]
  },
  {
   "cell_type": "code",
   "execution_count": 3,
   "metadata": {
    "ExecuteTime": {
     "end_time": "2020-10-26T05:48:32.132007Z",
     "start_time": "2020-10-26T05:48:31.321286Z"
    }
   },
   "outputs": [],
   "source": [
    "train_data = pd.read_csv(\"Final_data/train_data.csv\")\n",
    "test_data = pd.read_csv(\"Final_data/test_data.csv\")"
   ]
  },
  {
   "cell_type": "markdown",
   "metadata": {},
   "source": [
    "# lightgbm이랑, deepsvdd"
   ]
  },
  {
   "cell_type": "code",
   "execution_count": 4,
   "metadata": {
    "ExecuteTime": {
     "end_time": "2020-10-26T05:48:35.314576Z",
     "start_time": "2020-10-26T05:48:35.293576Z"
    }
   },
   "outputs": [],
   "source": [
    "from sklearn.model_selection import cross_val_score, GridSearchCV, KFold, RandomizedSearchCV, train_test_split\n",
    "import os\n",
    "import joblib\n",
    "import numpy as np\n",
    "from sklearn.model_selection import TimeSeriesSplit"
   ]
  },
  {
   "cell_type": "code",
   "execution_count": 5,
   "metadata": {
    "ExecuteTime": {
     "end_time": "2020-10-26T05:48:35.882187Z",
     "start_time": "2020-10-26T05:48:35.874698Z"
    }
   },
   "outputs": [],
   "source": [
    "def get_oof_lgbm(file_name, params, train_data, test_data, target_data, num_round, early_round, verbose_round, N_SPLITS=5, random_state=0):\n",
    "\n",
    "    FOLDs=KFold(n_splits=N_SPLITS, shuffle=True,random_state=0)\n",
    "\n",
    "    oof = np.zeros(len(train_data))\n",
    "    predictions = np.zeros(len(test_data))\n",
    "\n",
    "    feature_importance_df = pd.DataFrame()\n",
    "\n",
    "    for fold_, (trn_idx, val_idx) in enumerate(FOLDs.split(train_data)):\n",
    "        trn_data = lgb.Dataset(train_data.iloc[trn_idx], label=target_data.iloc[trn_idx])\n",
    "        val_data = lgb.Dataset(train_data.iloc[val_idx], label=target_data.iloc[val_idx])\n",
    "\n",
    "        print(\"LGB \" + str(fold_) + \"-\" * 50)\n",
    "        num_round = num_round\n",
    "        clf = lgb.train(params, trn_data, num_round, valid_sets = [trn_data, val_data], verbose_eval=verbose_round,\n",
    "                        early_stopping_rounds = early_round)\n",
    "        oof[val_idx] = clf.predict(train_data.iloc[val_idx], num_iteration=clf.best_iteration)\n",
    "\n",
    "        predictions += clf.predict(test_data, num_iteration=clf.best_iteration) / FOLDs.n_splits\n",
    "    \n",
    "#     joblib.dump(clf,file_name+'.pkl')\n",
    "    return oof, predictions, feature_importance_df"
   ]
  },
  {
   "cell_type": "code",
   "execution_count": 6,
   "metadata": {
    "ExecuteTime": {
     "end_time": "2020-10-26T05:48:37.291985Z",
     "start_time": "2020-10-26T05:48:37.258458Z"
    }
   },
   "outputs": [],
   "source": [
    "X_train=train_data[['size', 'ci_seq_nunique', 'mem_no_nunique',\n",
    "       'dvc_id_nunique', 'rgn1_cd_nunique', 'rgn2_cd_nunique',\n",
    "       'rgn3_cd_nunique', 'mem_duplicate_mean', 'mem_duplicate_sum',\n",
    "       'diff_time_mean', 'diff_time_sum', 'item_quantity_mean',\n",
    "       'item_quantity_sum', 'cpn_use_cnt_mean', 'cpn_use_cnt_sum',\n",
    "       'ord_price_mean', 'ord_price_sum', 'review_yn_mean', 'review_yn_sum',\n",
    "       'rating_mean', 'rating_sum', 'image_review_yn_mean',\n",
    "       'image_review_yn_sum', 'mem_no_ratio', 'ci_seq_ratio']]\n",
    "y_train=train_data['abuse_yn']\n",
    "\n",
    "X_test=test_data[['size', 'ci_seq_nunique', 'mem_no_nunique',\n",
    "       'dvc_id_nunique', 'rgn1_cd_nunique', 'rgn2_cd_nunique',\n",
    "       'rgn3_cd_nunique', 'mem_duplicate_mean', 'mem_duplicate_sum',\n",
    "       'diff_time_mean', 'diff_time_sum', 'item_quantity_mean',\n",
    "       'item_quantity_sum', 'cpn_use_cnt_mean', 'cpn_use_cnt_sum',\n",
    "       'ord_price_mean', 'ord_price_sum', 'review_yn_mean', 'review_yn_sum',\n",
    "       'rating_mean', 'rating_sum', 'image_review_yn_mean',\n",
    "       'image_review_yn_sum', 'mem_no_ratio', 'ci_seq_ratio']]\n",
    "y_test=test_data['abuse_yn']"
   ]
  },
  {
   "cell_type": "code",
   "execution_count": 7,
   "metadata": {
    "ExecuteTime": {
     "end_time": "2020-10-26T05:49:29.847173Z",
     "start_time": "2020-10-26T05:48:40.326825Z"
    },
    "scrolled": true
   },
   "outputs": [
    {
     "name": "stdout",
     "output_type": "stream",
     "text": [
      "LGB 0--------------------------------------------------\n",
      "Training until validation scores don't improve for 400 rounds\n",
      "Early stopping, best iteration is:\n",
      "[1]\ttraining's auc: 0.999699\tvalid_1's auc: 0.998761\n",
      "LGB 1--------------------------------------------------\n",
      "Training until validation scores don't improve for 400 rounds\n",
      "Early stopping, best iteration is:\n",
      "[2]\ttraining's auc: 0.52182\tvalid_1's auc: 0.995991\n",
      "LGB 2--------------------------------------------------\n",
      "Training until validation scores don't improve for 400 rounds\n",
      "Early stopping, best iteration is:\n",
      "[1]\ttraining's auc: 0.999822\tvalid_1's auc: 0.712681\n",
      "LGB 3--------------------------------------------------\n",
      "Training until validation scores don't improve for 400 rounds\n",
      "Early stopping, best iteration is:\n",
      "[1]\ttraining's auc: 0.999826\tvalid_1's auc: 0.748906\n",
      "LGB 4--------------------------------------------------\n",
      "Training until validation scores don't improve for 400 rounds\n",
      "Early stopping, best iteration is:\n",
      "[1]\ttraining's auc: 0.999796\tvalid_1's auc: 0.874401\n"
     ]
    }
   ],
   "source": [
    "import lightgbm as lgb\n",
    "xgb_params={\"objective\":\"binary\",\n",
    "           \"metric\":\"auc\",\n",
    "           \"max_depth\":6,\n",
    "           \"min_child_samples\":2,\n",
    "           \"alpha\":0.08,\n",
    "           \"gamma\":0.06,\n",
    "           \"eta\":0.04,\n",
    "           \"subsample\":0.08,\n",
    "           \"colsample_bytree\":0.97,\n",
    "           \"random_state\":2020\n",
    "           }\n",
    "a,b,c=get_oof_lgbm('binary',xgb_params, X_train, X_test, y_train, num_round=100000, early_round=400, verbose_round=500, N_SPLITS=5, random_state=0)"
   ]
  },
  {
   "cell_type": "code",
   "execution_count": 8,
   "metadata": {
    "ExecuteTime": {
     "end_time": "2020-10-26T05:49:40.006978Z",
     "start_time": "2020-10-26T05:49:39.999515Z"
    }
   },
   "outputs": [],
   "source": [
    "pred = test_data[['shop_no','ord_dt']]\n",
    "pred['abuse_yn'] = b"
   ]
  },
  {
   "cell_type": "code",
   "execution_count": 9,
   "metadata": {
    "ExecuteTime": {
     "end_time": "2020-10-26T05:49:41.418282Z",
     "start_time": "2020-10-26T05:49:41.233090Z"
    }
   },
   "outputs": [],
   "source": [
    "pred.to_csv(\"Predict_data/pred_lgbm.csv\",index=False)"
   ]
  }
 ],
 "metadata": {
  "kernelspec": {
   "display_name": "Python 3",
   "language": "python",
   "name": "python3"
  },
  "language_info": {
   "codemirror_mode": {
    "name": "ipython",
    "version": 3
   },
   "file_extension": ".py",
   "mimetype": "text/x-python",
   "name": "python",
   "nbconvert_exporter": "python",
   "pygments_lexer": "ipython3",
   "version": "3.7.6"
  },
  "toc": {
   "base_numbering": 1,
   "nav_menu": {},
   "number_sections": false,
   "sideBar": true,
   "skip_h1_title": false,
   "title_cell": "Table of Contents",
   "title_sidebar": "Contents",
   "toc_cell": false,
   "toc_position": {},
   "toc_section_display": true,
   "toc_window_display": false
  }
 },
 "nbformat": 4,
 "nbformat_minor": 2
}
