{
 "cells": [
  {
   "cell_type": "code",
   "execution_count": 1,
   "metadata": {
    "ExecuteTime": {
     "end_time": "2020-10-26T05:39:10.853034Z",
     "start_time": "2020-10-26T05:39:10.401152Z"
    }
   },
   "outputs": [],
   "source": [
    "import pandas as pd\n",
    "import os\n",
    "import numpy as np\n",
    "import warnings\n",
    "import seaborn as sns\n",
    "import re\n",
    "from tqdm import tqdm\n",
    "warnings.filterwarnings('ignore')"
   ]
  },
  {
   "cell_type": "markdown",
   "metadata": {},
   "source": [
    "# 학습 데이터 불러오기"
   ]
  },
  {
   "cell_type": "markdown",
   "metadata": {},
   "source": [
    "데이터를 읽을 때 단순 pd.read_csv로 읽으면 error_bad_lines 관련 문제가 생겨서 pd.read_csv 대신 아래 셀과 같이 긴 작업을 거쳤습니다."
   ]
  },
  {
   "cell_type": "code",
   "execution_count": 2,
   "metadata": {
    "ExecuteTime": {
     "end_time": "2020-10-26T05:42:55.548127Z",
     "start_time": "2020-10-26T05:39:12.195562Z"
    }
   },
   "outputs": [
    {
     "name": "stderr",
     "output_type": "stream",
     "text": [
      "10808186it [02:41, 67084.46it/s]\n"
     ]
    }
   ],
   "source": [
    "## 아래 모든 코드는 pd.read_csv의 대용입니다.\n",
    "\n",
    "import csv\n",
    "f = open('train.csv', 'r', encoding='utf-8')\n",
    "rdr = csv.reader(f)\n",
    "rr=0\n",
    "lines=[]\n",
    "for line in tqdm(rdr):\n",
    "    if rr<=1000000000000000000000000000000000000000000:\n",
    "        if len(line)==25:\n",
    "            line_final=line[:9]+[line[9]+line[10]]+line[11:]\n",
    "        elif len(line)==24:\n",
    "            line_final=line\n",
    "        rr+=1\n",
    "        lines.append(line_final)\n",
    "    else:\n",
    "        break\n",
    "\n",
    "columns = lines[0]\n",
    "df = pd.DataFrame(lines[1:],columns=columns)\n",
    "df = df.loc[(df['ord_dt']>='2020-08-16')&(df['ord_dt']<='2020-09-15')].reset_index().drop(['index'],axis=1)"
   ]
  },
  {
   "cell_type": "markdown",
   "metadata": {},
   "source": [
    "# val 데이터 변환"
   ]
  },
  {
   "cell_type": "code",
   "execution_count": 3,
   "metadata": {
    "ExecuteTime": {
     "end_time": "2020-10-26T05:43:02.648021Z",
     "start_time": "2020-10-26T05:42:55.550000Z"
    }
   },
   "outputs": [],
   "source": [
    "val = pd.read_csv(\"validation.csv\")\n",
    "val_date = val.groupby(['shop_no','ord_dt'])['abuse_yn'].mean().reset_index()"
   ]
  },
  {
   "cell_type": "markdown",
   "metadata": {},
   "source": [
    "# train 데이터 만들기"
   ]
  },
  {
   "cell_type": "code",
   "execution_count": 5,
   "metadata": {
    "ExecuteTime": {
     "end_time": "2020-10-26T05:43:18.156671Z",
     "start_time": "2020-10-26T05:43:16.120120Z"
    }
   },
   "outputs": [],
   "source": [
    "df['ord_dts'] = pd.to_datetime(df['ord_dt']) # df에서 ord_dt 컬럼을 datetime 타입으로 바꾸어서 ord_dts 컬럼에 저장합니다."
   ]
  },
  {
   "cell_type": "code",
   "execution_count": 6,
   "metadata": {
    "ExecuteTime": {
     "end_time": "2020-10-26T05:44:00.424475Z",
     "start_time": "2020-10-26T05:43:27.347145Z"
    }
   },
   "outputs": [],
   "source": [
    "mem_shop = df.groupby(['mem_no','shop_no']).size().reset_index().rename(columns={0:'mem_duplicate'})\n",
    "\n",
    "df = pd.merge(df, mem_shop,on=['mem_no','shop_no'],how='left') # 각 상점별, 유저별로 빈도수를 비교합니다."
   ]
  },
  {
   "cell_type": "code",
   "execution_count": 7,
   "metadata": {
    "ExecuteTime": {
     "end_time": "2020-10-26T05:44:08.169659Z",
     "start_time": "2020-10-26T05:44:04.558995Z"
    }
   },
   "outputs": [],
   "source": [
    "# 주문한 시간과 리뷰를 남긴 시간의 차이를 계산합니다.\n",
    "df['diff_time'] = (pd.to_datetime(np.where(df['review_created_tm']=='\\\\N',np.nan,df['review_created_tm'])) - pd.to_datetime(df['ord_tm'])).dt.total_seconds()"
   ]
  },
  {
   "cell_type": "code",
   "execution_count": 8,
   "metadata": {
    "ExecuteTime": {
     "end_time": "2020-10-26T05:44:08.174512Z",
     "start_time": "2020-10-26T05:44:08.171641Z"
    }
   },
   "outputs": [],
   "source": [
    "numeric_columns=['mem_duplicate', 'diff_time','item_quantity','cpn_use_cnt','ord_price','review_yn','rating','image_review_yn']\n",
    "sparse_cate_columns = ['ci_seq', 'mem_no', 'dvc_id','rgn1_cd', 'rgn2_cd', 'rgn3_cd']"
   ]
  },
  {
   "cell_type": "code",
   "execution_count": 9,
   "metadata": {
    "ExecuteTime": {
     "end_time": "2020-10-26T05:44:40.584658Z",
     "start_time": "2020-10-26T05:44:09.891744Z"
    }
   },
   "outputs": [],
   "source": [
    "# 수치형 변수여야 하는 컬럼을 float로 바꿉니다.\n",
    "\n",
    "for col in numeric_columns:\n",
    "    df[col]=df[col].astype(float)"
   ]
  },
  {
   "cell_type": "code",
   "execution_count": 10,
   "metadata": {
    "ExecuteTime": {
     "end_time": "2020-10-26T05:44:45.168612Z",
     "start_time": "2020-10-26T05:44:42.605302Z"
    }
   },
   "outputs": [],
   "source": [
    "# 상점, 날짜별 주문수를 추출합니다.\n",
    "size = df.groupby(['shop_no','ord_dt']).size().reset_index().rename(columns={0:'size'})"
   ]
  },
  {
   "cell_type": "code",
   "execution_count": 11,
   "metadata": {
    "ExecuteTime": {
     "end_time": "2020-10-26T05:46:20.165924Z",
     "start_time": "2020-10-26T05:44:46.159643Z"
    }
   },
   "outputs": [],
   "source": [
    "# 상점, 날짜별로 sparse_cate_columns의 nunique를 추출합니다.\n",
    "\n",
    "for col in sparse_cate_columns:\n",
    "    size = pd.merge(size,df.groupby(['shop_no','ord_dt'])[col].nunique().reset_index(),on=['shop_no','ord_dt'],how='left')\n",
    "    size = size.rename(columns={col:col+'_nunique'})"
   ]
  },
  {
   "cell_type": "code",
   "execution_count": 12,
   "metadata": {
    "ExecuteTime": {
     "end_time": "2020-10-26T05:47:07.000605Z",
     "start_time": "2020-10-26T05:46:27.108737Z"
    }
   },
   "outputs": [],
   "source": [
    "# 상점, 날짜별로 numeric_columns의 평균과 합을 추출합니다.\n",
    "\n",
    "for col in numeric_columns:\n",
    "    size = pd.merge(size,df.groupby(['shop_no','ord_dt'])[col].mean().reset_index(),on=['shop_no','ord_dt'],how='left')\n",
    "    size = size.rename(columns={col:col+'_mean'})\n",
    "\n",
    "    size = pd.merge(size,df.groupby(['shop_no','ord_dt'])[col].sum().reset_index(),on=['shop_no','ord_dt'],how='left')\n",
    "    size = size.rename(columns={col:col+'_sum'})"
   ]
  },
  {
   "cell_type": "code",
   "execution_count": 13,
   "metadata": {
    "ExecuteTime": {
     "end_time": "2020-10-26T05:47:08.649039Z",
     "start_time": "2020-10-26T05:47:08.485204Z"
    }
   },
   "outputs": [],
   "source": [
    "# 답지와 merge합니다\n",
    "size = pd.merge(size,val_date[['shop_no','ord_dt','abuse_yn']],on=['shop_no','ord_dt'],how='left')"
   ]
  },
  {
   "cell_type": "code",
   "execution_count": 14,
   "metadata": {
    "ExecuteTime": {
     "end_time": "2020-10-26T05:47:09.280599Z",
     "start_time": "2020-10-26T05:47:09.266548Z"
    }
   },
   "outputs": [],
   "source": [
    "# nunique를 size로 나누어 ratio 변수를 생성한다.\n",
    "size['mem_no_ratio'] = size['mem_no_nunique']/size['size']\n",
    "size['ci_seq_ratio'] = size['ci_seq_nunique']/size['size']"
   ]
  },
  {
   "cell_type": "markdown",
   "metadata": {},
   "source": [
    "# 학습 데이터, 정답 데이터"
   ]
  },
  {
   "cell_type": "code",
   "execution_count": 15,
   "metadata": {
    "ExecuteTime": {
     "end_time": "2020-10-26T05:47:10.860626Z",
     "start_time": "2020-10-26T05:47:10.857975Z"
    }
   },
   "outputs": [],
   "source": [
    "full_data = size"
   ]
  },
  {
   "cell_type": "code",
   "execution_count": 16,
   "metadata": {
    "ExecuteTime": {
     "end_time": "2020-10-26T05:47:12.146478Z",
     "start_time": "2020-10-26T05:47:11.993502Z"
    }
   },
   "outputs": [],
   "source": [
    "test_data = full_data.loc[full_data['ord_dt']>'2020-09-10'].reset_index().drop(['index'],axis=1)\n",
    "train_data = full_data.loc[full_data['ord_dt']<='2020-09-10'].reset_index().drop(['index'],axis=1)"
   ]
  },
  {
   "cell_type": "code",
   "execution_count": 17,
   "metadata": {
    "ExecuteTime": {
     "end_time": "2020-10-26T05:47:55.555127Z",
     "start_time": "2020-10-26T05:47:46.983897Z"
    }
   },
   "outputs": [],
   "source": [
    "train_data.to_csv(\"Final_data/train_data.csv\",index=False)\n",
    "test_data.to_csv(\"Final_data/test_data.csv\",index=False)"
   ]
  }
 ],
 "metadata": {
  "kernelspec": {
   "display_name": "Python 3",
   "language": "python",
   "name": "python3"
  },
  "language_info": {
   "codemirror_mode": {
    "name": "ipython",
    "version": 3
   },
   "file_extension": ".py",
   "mimetype": "text/x-python",
   "name": "python",
   "nbconvert_exporter": "python",
   "pygments_lexer": "ipython3",
   "version": "3.7.6"
  },
  "toc": {
   "base_numbering": 1,
   "nav_menu": {},
   "number_sections": false,
   "sideBar": true,
   "skip_h1_title": false,
   "title_cell": "Table of Contents",
   "title_sidebar": "Contents",
   "toc_cell": false,
   "toc_position": {},
   "toc_section_display": true,
   "toc_window_display": false
  }
 },
 "nbformat": 4,
 "nbformat_minor": 2
}
